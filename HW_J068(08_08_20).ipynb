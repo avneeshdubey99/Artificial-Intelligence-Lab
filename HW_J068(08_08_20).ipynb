{
  "nbformat": 4,
  "nbformat_minor": 0,
  "metadata": {
    "colab": {
      "name": "HW_J068(08/08/20).ipynb",
      "provenance": [],
      "collapsed_sections": [],
      "include_colab_link": true
    },
    "kernelspec": {
      "name": "python3",
      "display_name": "Python 3"
    }
  },
  "cells": [
    {
      "cell_type": "markdown",
      "metadata": {
        "id": "view-in-github",
        "colab_type": "text"
      },
      "source": [
        "<a href=\"https://colab.research.google.com/github/avneeshdubey99/Artificial-Intelligence-Lab/blob/master/HW_J068(08_08_20).ipynb\" target=\"_parent\"><img src=\"https://colab.research.google.com/assets/colab-badge.svg\" alt=\"Open In Colab\"/></a>"
      ]
    },
    {
      "cell_type": "code",
      "metadata": {
        "id": "vEFgygQD3Smt",
        "colab_type": "code",
        "colab": {
          "base_uri": "https://localhost:8080/",
          "height": 134
        },
        "outputId": "28feb609-e629-4092-f33d-5a0cb39cb584"
      },
      "source": [
        "import sys\n",
        "import heapq\n",
        "\n",
        "def knapsack(N,M,S,V,E) :\n",
        "  T = tuple(set() for _ in range(N))\n",
        "  for u,v in E :\n",
        "    T[u].add(v)\n",
        "    T[v].add(u)\n",
        "    Total, order, maxVal = sum(V), sorted(range(n), reverse=True, key=(lambda i : V[i]/S[i])), 0\n",
        "  def maximum(visit, connect, reject, size, value, rejectVal, maxVal) :\n",
        "      if value > maxVal :\n",
        "          maxVal = value\n",
        "      if not connect :\n",
        "          return maxVal\n",
        "      i = best_case(connect)\n",
        "      if size + S[i] <= M :\n",
        "          maxVal = maximum(visit|{i}, (connect-{i}) | (T[i]-reject-visit), reject, size+S[i], value+V[i], rejectVal, maxVal)\n",
        "      if Total - (rejectVal + V[i]) > maxVal :\n",
        "          maxVal = maximum(visit|{i}, connect-{i}, reject | {i}, size, value, rejectVal + V[i], maxVal)\n",
        "      return maxVal\n",
        "  def best_case(connect) :\n",
        "      for i in order :\n",
        "          if i in connect :\n",
        "              return i\n",
        "  for s in order :\n",
        "      maxVal = maximum(set(),{s},set(),0,0,0,maxVal)\n",
        "  return maxVal\n",
        "\n",
        "T = int(input())\n",
        "for _ in range(T) :\n",
        "    n,m = (int(_) for _ in input().split())\n",
        "    s = tuple(int(_) for _ in input().split())\n",
        "    v = tuple(int(_) for _ in input().split())\n",
        "    e = tuple((int(_)-1 for _ in input().split()) for _ in range(n-1))\n",
        "    print(\"Output is: \" ,knapsack(n,m,s,v,e))\n"
      ],
      "execution_count": null,
      "outputs": [
        {
          "output_type": "stream",
          "text": [
            "1\n",
            "3 1\n",
            "1 1 1\n",
            "1 2 3\n",
            "1 2\n",
            "1 3\n",
            "Output is:  3\n"
          ],
          "name": "stdout"
        }
      ]
    },
    {
      "cell_type": "code",
      "metadata": {
        "id": "0w9RwuBW3Ti-",
        "colab_type": "code",
        "colab": {
          "base_uri": "https://localhost:8080/",
          "height": 168
        },
        "outputId": "ad821953-e6b7-4d5e-d31e-a5caa03116be"
      },
      "source": [
        "T = int(input())\n",
        "for _ in range(T) :\n",
        "    n,m = (int(_) for _ in input().split())\n",
        "    s = tuple(int(_) for _ in input().split())\n",
        "    v = tuple(int(_) for _ in input().split())\n",
        "    e = tuple((int(_)-1 for _ in input().split()) for _ in range(n-1))\n",
        "    print(\"Output is: \" ,knapsack(n,m,s,v,e))"
      ],
      "execution_count": null,
      "outputs": [
        {
          "output_type": "stream",
          "text": [
            "1\n",
            "5 3\n",
            "1 1 1 1 1\n",
            "3 5 2 2 3\n",
            "1 2\n",
            "1 3\n",
            "2 4\n",
            "2 5\n",
            "Output is:  11\n"
          ],
          "name": "stdout"
        }
      ]
    },
    {
      "cell_type": "code",
      "metadata": {
        "id": "Bnlln5Kq3oCM",
        "colab_type": "code",
        "colab": {
          "base_uri": "https://localhost:8080/",
          "height": 235
        },
        "outputId": "7ad65565-9424-4c64-c347-d04dc0416ba4"
      },
      "source": [
        "T = int(input())\n",
        "for _ in range(T) :\n",
        "    n,m = (int(_) for _ in input().split())\n",
        "    s = tuple(int(_) for _ in input().split())\n",
        "    v = tuple(int(_) for _ in input().split())\n",
        "    e = tuple((int(_)-1 for _ in input().split()) for _ in range(n-1))\n",
        "    print(\"Output is: \" ,knapsack(n,m,s,v,e))"
      ],
      "execution_count": null,
      "outputs": [
        {
          "output_type": "stream",
          "text": [
            "1\n",
            "9 7\n",
            "1 1 3 2 1 1 1 5 5\n",
            "1 0 8 5 1 2 0 9 14\n",
            "1 2\n",
            "2 3\n",
            "2 4\n",
            "3 5\n",
            "3 6\n",
            "4 7\n",
            "4 8\n",
            "7 9\n",
            "Output is:  15\n"
          ],
          "name": "stdout"
        }
      ]
    },
    {
      "cell_type": "code",
      "metadata": {
        "id": "qKQksGq94dNU",
        "colab_type": "code",
        "colab": {}
      },
      "source": [
        ""
      ],
      "execution_count": null,
      "outputs": []
    }
  ]
}