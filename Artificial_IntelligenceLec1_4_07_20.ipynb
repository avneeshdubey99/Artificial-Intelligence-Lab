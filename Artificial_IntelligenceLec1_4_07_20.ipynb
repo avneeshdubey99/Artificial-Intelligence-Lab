{
  "nbformat": 4,
  "nbformat_minor": 0,
  "metadata": {
    "colab": {
      "name": "Artificial IntelligenceLec1_4_07_20.ipynb",
      "provenance": [],
      "collapsed_sections": [],
      "authorship_tag": "ABX9TyP+rVPBoqh/jeH3x5BKjTSN",
      "include_colab_link": true
    },
    "kernelspec": {
      "name": "python3",
      "display_name": "Python 3"
    }
  },
  "cells": [
    {
      "cell_type": "markdown",
      "metadata": {
        "id": "view-in-github",
        "colab_type": "text"
      },
      "source": [
        "<a href=\"https://colab.research.google.com/github/avneeshdubey99/Artificial-Intelligence-Lab/blob/master/Artificial_IntelligenceLec1_4_07_20.ipynb\" target=\"_parent\"><img src=\"https://colab.research.google.com/assets/colab-badge.svg\" alt=\"Open In Colab\"/></a>"
      ]
    },
    {
      "cell_type": "code",
      "metadata": {
        "id": "N8dsIoGZ4Tkm",
        "colab_type": "code",
        "colab": {}
      },
      "source": [
        "# list\n",
        "a = [1,2,3,4,5,'human']\n",
        "#tuple\n",
        "b = (1,2,3,4,5,'human')\n",
        "#set\n",
        "c = {1,2,3,4,5,'human'}\n",
        "#dictionary\n",
        "d = {'list':[1,2,3,4,5,'human'],\n",
        "     'tuple':(1,2,3,4,5,'human'),\n",
        "     'set':{1,2,3,4,5},\n",
        "     'dictionary':{'anurag':1,'krtike':2,'avneesh':3}}\n",
        "e = {{1,2,3,4,5,'human'},{1,2,3,4,5,'human'}}\n",
        "\n",
        "f = {[1,2,3,4,5,'human'],[1,2,3,4,5,'human']}\n",
        "\n",
        "g= {1,2,-1,5,6}\n",
        "g.pop()\n"
      ],
      "execution_count": null,
      "outputs": []
    },
    {
      "cell_type": "code",
      "metadata": {
        "id": "Ehh-vvFDGVAv",
        "colab_type": "code",
        "colab": {
          "base_uri": "https://localhost:8080/",
          "height": 34
        },
        "outputId": "c43789a4-7ab9-4676-ca67-370d94de1600"
      },
      "source": [
        "g= {1,2,-1,5,6}\n",
        "g.pop()\n",
        "g"
      ],
      "execution_count": null,
      "outputs": [
        {
          "output_type": "execute_result",
          "data": {
            "text/plain": [
              "{-1, 2, 5, 6}"
            ]
          },
          "metadata": {
            "tags": []
          },
          "execution_count": 23
        }
      ]
    },
    {
      "cell_type": "code",
      "metadata": {
        "id": "ZkmrCWeMWFS8",
        "colab_type": "code",
        "colab": {
          "base_uri": "https://localhost:8080/",
          "height": 34
        },
        "outputId": "fe1160d7-b60a-4997-ccde-d6e76822b5c8"
      },
      "source": [
        "g.pop()\n",
        "g"
      ],
      "execution_count": null,
      "outputs": [
        {
          "output_type": "execute_result",
          "data": {
            "text/plain": [
              "{-1, 6}"
            ]
          },
          "metadata": {
            "tags": []
          },
          "execution_count": 25
        }
      ]
    },
    {
      "cell_type": "code",
      "metadata": {
        "id": "H1JJPDdiWFfi",
        "colab_type": "code",
        "colab": {
          "base_uri": "https://localhost:8080/",
          "height": 34
        },
        "outputId": "1b070cfe-2e2b-4b88-8703-99e5f8833818"
      },
      "source": [
        "g.pop()\n",
        "g"
      ],
      "execution_count": null,
      "outputs": [
        {
          "output_type": "execute_result",
          "data": {
            "text/plain": [
              "set()"
            ]
          },
          "metadata": {
            "tags": []
          },
          "execution_count": 27
        }
      ]
    },
    {
      "cell_type": "code",
      "metadata": {
        "id": "cE2RciP-WFts",
        "colab_type": "code",
        "colab": {
          "base_uri": "https://localhost:8080/",
          "height": 34
        },
        "outputId": "669d0b3c-9674-4d34-8176-1bcc8ddd9efb"
      },
      "source": [
        ""
      ],
      "execution_count": null,
      "outputs": [
        {
          "output_type": "execute_result",
          "data": {
            "text/plain": [
              "1"
            ]
          },
          "metadata": {
            "tags": []
          },
          "execution_count": 30
        }
      ]
    },
    {
      "cell_type": "markdown",
      "metadata": {
        "id": "kCo8bUqzufVr",
        "colab_type": "text"
      },
      "source": [
        "# New Section"
      ]
    }
  ]
}