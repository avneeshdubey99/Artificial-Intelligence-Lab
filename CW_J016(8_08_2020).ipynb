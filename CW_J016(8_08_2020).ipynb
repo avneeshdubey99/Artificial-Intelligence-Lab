{
  "nbformat": 4,
  "nbformat_minor": 0,
  "metadata": {
    "colab": {
      "name": "CW_J016(8/08/2020).ipynb",
      "provenance": [],
      "collapsed_sections": [],
      "include_colab_link": true
    },
    "kernelspec": {
      "name": "python3",
      "display_name": "Python 3"
    }
  },
  "cells": [
    {
      "cell_type": "markdown",
      "metadata": {
        "id": "view-in-github",
        "colab_type": "text"
      },
      "source": [
        "<a href=\"https://colab.research.google.com/github/avneeshdubey99/Artificial-Intelligence-Lab/blob/master/CW_J016(8_08_2020).ipynb\" target=\"_parent\"><img src=\"https://colab.research.google.com/assets/colab-badge.svg\" alt=\"Open In Colab\"/></a>"
      ]
    },
    {
      "cell_type": "code",
      "metadata": {
        "id": "AyT-xZA5Fir3",
        "colab_type": "code",
        "colab": {}
      },
      "source": [
        "import timeit"
      ],
      "execution_count": null,
      "outputs": []
    },
    {
      "cell_type": "code",
      "metadata": {
        "id": "agLdJzPME_QF",
        "colab_type": "code",
        "colab": {
          "base_uri": "https://localhost:8080/",
          "height": 67
        },
        "outputId": "0a5d503e-c5b7-4365-e92a-d576c5d3ea23"
      },
      "source": [
        "def factorial_simpl(num):\n",
        "  factor=1\n",
        "  for i in range(1,num+1):\n",
        "    factor=factor*i\n",
        "  return factor\n",
        "num = int(input(\"Enter a Number: \"))\n",
        "print(\"Factorial of\", num, \"is: \", factorial_simpl(num))"
      ],
      "execution_count": null,
      "outputs": [
        {
          "output_type": "stream",
          "text": [
            "Time:  6.142000000863845e-05\n",
            "Enter a Number: 10\n",
            "Factorial of 10 is:  3628800\n"
          ],
          "name": "stdout"
        }
      ]
    },
    {
      "cell_type": "code",
      "metadata": {
        "id": "YgM8IcEuFOjh",
        "colab_type": "code",
        "colab": {
          "base_uri": "https://localhost:8080/",
          "height": 50
        },
        "outputId": "edf57dc9-89af-451d-9688-6050772da3d1"
      },
      "source": [
        "%timeit(factorial_simpl(5))"
      ],
      "execution_count": null,
      "outputs": [
        {
          "output_type": "stream",
          "text": [
            "The slowest run took 4.84 times longer than the fastest. This could mean that an intermediate result is being cached.\n",
            "1000000 loops, best of 3: 451 ns per loop\n"
          ],
          "name": "stdout"
        }
      ]
    },
    {
      "cell_type": "code",
      "metadata": {
        "id": "drHNCdFqFyEx",
        "colab_type": "code",
        "colab": {
          "base_uri": "https://localhost:8080/",
          "height": 34
        },
        "outputId": "53ba8630-9110-4aa5-d919-96433d9159d7"
      },
      "source": [
        "%timeit(factorial_simpl(50))"
      ],
      "execution_count": null,
      "outputs": [
        {
          "output_type": "stream",
          "text": [
            "100000 loops, best of 3: 3.14 µs per loop\n"
          ],
          "name": "stdout"
        }
      ]
    },
    {
      "cell_type": "code",
      "metadata": {
        "id": "O-4iyLluHM-w",
        "colab_type": "code",
        "colab": {
          "base_uri": "https://localhost:8080/",
          "height": 34
        },
        "outputId": "07fbda06-98b2-41ea-c6fd-50ade093921e"
      },
      "source": [
        "%timeit(factorial_simpl(500))"
      ],
      "execution_count": null,
      "outputs": [
        {
          "output_type": "stream",
          "text": [
            "10000 loops, best of 3: 63.7 µs per loop\n"
          ],
          "name": "stdout"
        }
      ]
    },
    {
      "cell_type": "code",
      "metadata": {
        "id": "D9HALH1oHV9h",
        "colab_type": "code",
        "colab": {
          "base_uri": "https://localhost:8080/",
          "height": 34
        },
        "outputId": "2104f2bd-9591-4a67-d0ef-d812c427395a"
      },
      "source": [
        "%timeit(factorial_simpl(5000))"
      ],
      "execution_count": null,
      "outputs": [
        {
          "output_type": "stream",
          "text": [
            "100 loops, best of 3: 4.61 ms per loop\n"
          ],
          "name": "stdout"
        }
      ]
    },
    {
      "cell_type": "code",
      "metadata": {
        "id": "c8nG2mkrHYjJ",
        "colab_type": "code",
        "colab": {}
      },
      "source": [
        "def sum(a,b):\n",
        "    return a+b"
      ],
      "execution_count": null,
      "outputs": []
    },
    {
      "cell_type": "code",
      "metadata": {
        "id": "XVlp2fIG6XWs",
        "colab_type": "code",
        "colab": {
          "base_uri": "https://localhost:8080/",
          "height": 50
        },
        "outputId": "abcb9680-a87c-495a-db1a-d5d41a2dc85b"
      },
      "source": [
        "%timeit sum(5,10)"
      ],
      "execution_count": null,
      "outputs": [
        {
          "output_type": "stream",
          "text": [
            "The slowest run took 18.18 times longer than the fastest. This could mean that an intermediate result is being cached.\n",
            "10000000 loops, best of 3: 77.8 ns per loop\n"
          ],
          "name": "stdout"
        }
      ]
    },
    {
      "cell_type": "code",
      "metadata": {
        "id": "hF7KaPmH6f5y",
        "colab_type": "code",
        "colab": {
          "base_uri": "https://localhost:8080/",
          "height": 50
        },
        "outputId": "fcc155c0-ee95-44be-eae7-b9f4ad4a43cd"
      },
      "source": [
        "%timeit sum(50,100)"
      ],
      "execution_count": null,
      "outputs": [
        {
          "output_type": "stream",
          "text": [
            "The slowest run took 19.55 times longer than the fastest. This could mean that an intermediate result is being cached.\n",
            "10000000 loops, best of 3: 78.7 ns per loop\n"
          ],
          "name": "stdout"
        }
      ]
    },
    {
      "cell_type": "code",
      "metadata": {
        "id": "C65QI9ck6hpo",
        "colab_type": "code",
        "colab": {
          "base_uri": "https://localhost:8080/",
          "height": 50
        },
        "outputId": "35c11fe8-9648-4190-983e-98ac72f1f529"
      },
      "source": [
        "%timeit sum(500,1000)"
      ],
      "execution_count": null,
      "outputs": [
        {
          "output_type": "stream",
          "text": [
            "The slowest run took 16.24 times longer than the fastest. This could mean that an intermediate result is being cached.\n",
            "10000000 loops, best of 3: 88.9 ns per loop\n"
          ],
          "name": "stdout"
        }
      ]
    },
    {
      "cell_type": "code",
      "metadata": {
        "id": "nNw2hxEy6jbs",
        "colab_type": "code",
        "colab": {
          "base_uri": "https://localhost:8080/",
          "height": 50
        },
        "outputId": "26533554-3fc5-48e9-a0e5-0490e5a88f22"
      },
      "source": [
        "%timeit sum(5000,10000)"
      ],
      "execution_count": null,
      "outputs": [
        {
          "output_type": "stream",
          "text": [
            "The slowest run took 16.40 times longer than the fastest. This could mean that an intermediate result is being cached.\n",
            "10000000 loops, best of 3: 88.7 ns per loop\n"
          ],
          "name": "stdout"
        }
      ]
    },
    {
      "cell_type": "markdown",
      "metadata": {
        "id": "BxeJv13r6qFs",
        "colab_type": "text"
      },
      "source": [
        "NP(Problem) - Solution is in non polynomial time<br>\n",
        "P(Problem) - Max Solution time or Upper Bound is in Polynomial Time O(n^4) -> log n =[](is log n polynomial time or not ?)<br>\n",
        "             (n*logn)<br>\n",
        "              log 50(base10) - 1.69 ()<n^1<br>\n",
        "              log 500(base10) - 2.69 ()<n^1<br>\n",
        "              log 5000(base10) - 3.69 ()<n^1<br>\n",
        "              for non linear change in n , change is linear<br><br>\n",
        "\n",
        "NP () - n!<br>\n",
        "        5! = 120 -> <5^3<br>\n",
        "        50! = 3.0414093e+64 microsecs -> days -> 3.5201497e+53 days<br>\n",
        "        500! <br>\n",
        "        5000! <br><br>\n",
        "NP Complete - > All NP hard problems can be approximated to the problem then it is NP Complete. <br>\n",
        "NP hard - > A problem is NP Hard if its solution is in NP, Cannot be verified in Polynomial Time <br>\n",
        "          \n",
        "AI Complete or <br>\n",
        "AI Hard Problems <br>\n",
        "SAT - n-SAT (2-SAT) <br>"
      ]
    }
  ]
}