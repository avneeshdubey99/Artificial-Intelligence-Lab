{
  "nbformat": 4,
  "nbformat_minor": 0,
  "metadata": {
    "colab": {
      "name": "ArtificialIntelligenceLec1_.ipynb",
      "provenance": [],
      "collapsed_sections": [],
      "authorship_tag": "ABX9TyNJIwLwac12TTt41deJpmBQ",
      "include_colab_link": true
    },
    "kernelspec": {
      "name": "python3",
      "display_name": "Python 3"
    }
  },
  "cells": [
    {
      "cell_type": "markdown",
      "metadata": {
        "id": "view-in-github",
        "colab_type": "text"
      },
      "source": [
        "<a href=\"https://colab.research.google.com/github/avneeshdubey99/Artificial-Intelligence-Lab/blob/master/Lab1_4_7_20_.ipynb\" target=\"_parent\"><img src=\"https://colab.research.google.com/assets/colab-badge.svg\" alt=\"Open In Colab\"/></a>"
      ]
    },
    {
      "cell_type": "code",
      "metadata": {
        "id": "uRBLkyzwjlPL",
        "colab_type": "code",
        "colab": {
          "base_uri": "https://localhost:8080/",
          "height": 34
        },
        "outputId": "7f53756f-6d56-4a6a-cf1d-d80d99401399"
      },
      "source": [
        "#Q1\n",
        "\n",
        "import math\n",
        "import os\n",
        "import random\n",
        "import re\n",
        "import sys\n",
        "\n",
        "n = int(input().strip())\n",
        "\n",
        "if n % 2 != 0:\n",
        "    print(\"Weird\")\n",
        "else:\n",
        "    if n >= 2 and n <= 5:\n",
        "        print (\"Not Weird\")\n",
        "    elif n >= 6 and n <= 20:\n",
        "        print (\"Weird\")\n",
        "    elif n > 20:\n",
        "        print (\"Not Weird\")"
      ],
      "execution_count": null,
      "outputs": [
        {
          "output_type": "stream",
          "text": [
            "Hello, World!\n"
          ],
          "name": "stdout"
        }
      ]
    },
    {
      "cell_type": "code",
      "metadata": {
        "id": "D8d_N2utjvAd",
        "colab_type": "code",
        "colab": {}
      },
      "source": [
        "#Q2\n",
        "if __name__ == '__main__':\n",
        "    a = int(input())\n",
        "    b = int(input())\n",
        "\n",
        "print(a+b)\n",
        "print(a-b)\n",
        "print(a*b)"
      ],
      "execution_count": null,
      "outputs": []
    },
    {
      "cell_type": "code",
      "metadata": {
        "id": "yf39SwDMl8L0",
        "colab_type": "code",
        "colab": {}
      },
      "source": [
        "#Q3\n",
        "if __name__ == '__main__':\n",
        "    a = int(input())\n",
        "    b = int(input())\n",
        "print(int(a//b))\n",
        "print(float(a/b))"
      ],
      "execution_count": null,
      "outputs": []
    },
    {
      "cell_type": "code",
      "metadata": {
        "id": "Lk3x16qao_Qo",
        "colab_type": "code",
        "colab": {}
      },
      "source": [
        "#Q4\n",
        "if __name__ == '__main__':\n",
        "    n = int(input())\n",
        "for i in range(n):\n",
        "    print(i*i)\n",
        "    "
      ],
      "execution_count": null,
      "outputs": []
    },
    {
      "cell_type": "code",
      "metadata": {
        "id": "wkBxtZRTq08e",
        "colab_type": "code",
        "colab": {}
      },
      "source": [
        "#Q5\n",
        "n=int(input())\n",
        "\n",
        "for i in range(n):    \n",
        "    print(i+1, end=\"\")"
      ],
      "execution_count": null,
      "outputs": []
    },
    {
      "cell_type": "code",
      "metadata": {
        "id": "T6q7Jmc4tMNg",
        "colab_type": "code",
        "colab": {}
      },
      "source": [
        "#Q6\n",
        "if __name__ == '__main__':\n",
        "    x = int(input())\n",
        "    y = int(input())\n",
        "    z = int(input())\n",
        "    n = int(input())\n",
        "\n",
        "ans = [[i, j, k] for i in range(x + 1) for j in range(y + 1) for k in range(z + 1) if i + j + k != n]\n",
        "print(ans)"
      ],
      "execution_count": null,
      "outputs": []
    }
  ]
}