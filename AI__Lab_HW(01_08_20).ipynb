{
  "nbformat": 4,
  "nbformat_minor": 0,
  "metadata": {
    "colab": {
      "name": "AI_HW(01_08_20).ipynb",
      "provenance": [],
      "collapsed_sections": [],
      "authorship_tag": "ABX9TyPQP2orsF+9c5IMmiSTHJ7L",
      "include_colab_link": true
    },
    "kernelspec": {
      "name": "python3",
      "display_name": "Python 3"
    }
  },
  "cells": [
    {
      "cell_type": "markdown",
      "metadata": {
        "id": "view-in-github",
        "colab_type": "text"
      },
      "source": [
        "<a href=\"https://colab.research.google.com/github/avneeshdubey99/Artificial-Intelligence-Lab/blob/master/AI__Lab_HW(01_08_20).ipynb\" target=\"_parent\"><img src=\"https://colab.research.google.com/assets/colab-badge.svg\" alt=\"Open In Colab\"/></a>"
      ]
    },
    {
      "cell_type": "markdown",
      "metadata": {
        "id": "KcBtzt2d7lC7",
        "colab_type": "text"
      },
      "source": [
        "# Validating Postal Codes"
      ]
    },
    {
      "cell_type": "code",
      "metadata": {
        "id": "q1yOUVHU7NmQ",
        "colab_type": "code",
        "colab": {
          "base_uri": "https://localhost:8080/",
          "height": 51
        },
        "outputId": "44f0f8f8-7fed-4881-88e4-5817a47a94e7"
      },
      "source": [
        "import re\n",
        "\n",
        "P = input()\n",
        "\n",
        "regex_integer_in_range = r'^[1-9][\\d]{5}$'  # Do not delete 'r'.\n",
        "regex_alternating_repetitive_digit_pair = r'(\\d)(?=\\d\\1)'  # Do not delete 'r'.\n",
        "\n",
        "print (bool(re.match(regex_integer_in_range, P))\n",
        "       and len(re.findall(regex_alternating_repetitive_digit_pair, P)) < 2)"
      ],
      "execution_count": 6,
      "outputs": [
        {
          "output_type": "stream",
          "text": [
            "110000\n",
            "False\n"
          ],
          "name": "stdout"
        }
      ]
    },
    {
      "cell_type": "markdown",
      "metadata": {
        "id": "4eIiCJZ175ia",
        "colab_type": "text"
      },
      "source": [
        "# Coin Change Problem"
      ]
    },
    {
      "cell_type": "code",
      "metadata": {
        "id": "ENxX0uaq74sj",
        "colab_type": "code",
        "colab": {
          "base_uri": "https://localhost:8080/",
          "height": 68
        },
        "outputId": "dec60e96-bdf8-4216-e6fb-840cd2729714"
      },
      "source": [
        "import math\n",
        "import os\n",
        "import random\n",
        "import re\n",
        "import sys\n",
        "\n",
        "#\n",
        "# Complete the 'getWays' function below.\n",
        "#\n",
        "# The function is expected to return a LONG_INTEGER.\n",
        "# The function accepts following parameters:\n",
        "#  1. INTEGER n\n",
        "#  2. LONG_INTEGER_ARRAY c\n",
        "#\n",
        "\n",
        "N,M = list(map(int,input().strip().split(' ')))\n",
        "coins = list(map(int,input().strip().split(' ')))\n",
        "\n",
        "count = 0\n",
        "def count_make_change_recursive(N, coins, M):\n",
        "    if N < 0:\n",
        "        return 0\n",
        "    if N == 0:\n",
        "        return 1\n",
        "    if M <= 0:\n",
        "        return 0\n",
        "    return count_make_change(N-coins[M-1], coins, M) + count_make_change(N,coins,M-1)\n",
        "\n",
        "\n",
        "def count_make_change_bottom_up(N, coins, M):\n",
        "    counts = [0] * (N+1)\n",
        "    counts[0] = 1\n",
        "    for i in range(0, M):\n",
        "        sum = 0\n",
        "        for j in range(coins[i],N+1):\n",
        "            counts[j] += counts[j-coins[i]]\n",
        "    return counts[N]\n",
        "\n",
        "\n",
        "print(count_make_change_bottom_up(N,coins,M))\n"
      ],
      "execution_count": 5,
      "outputs": [
        {
          "output_type": "stream",
          "text": [
            "10 4\n",
            "2 5 3 6\n",
            "5\n"
          ],
          "name": "stdout"
        }
      ]
    },
    {
      "cell_type": "markdown",
      "metadata": {
        "id": "Eq2i9fSSW5R2",
        "colab_type": "text"
      },
      "source": [
        "# Sherlock and Cost"
      ]
    },
    {
      "cell_type": "code",
      "metadata": {
        "id": "YZpYspufW4nj",
        "colab_type": "code",
        "colab": {}
      },
      "source": [
        ""
      ],
      "execution_count": null,
      "outputs": []
    },
    {
      "cell_type": "markdown",
      "metadata": {
        "id": "kejIyk-57ZZi",
        "colab_type": "text"
      },
      "source": [
        ""
      ]
    }
  ]
}